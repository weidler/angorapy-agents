{
 "cells": [
  {
   "cell_type": "raw",
   "source": [],
   "metadata": {
    "collapsed": false,
    "pycharm": {
     "name": "#%% raw\n"
    }
   }
  },
  {
   "cell_type": "code",
   "execution_count": 3,
   "outputs": [
    {
     "name": "stdout",
     "output_type": "stream",
     "text": [
      "A MuJoCo path exists. MuJoCo is being loaded...\n",
      "Detected 1 GPU devices.\n"
     ]
    }
   ],
   "source": [
    "import angorapy as ang"
   ],
   "metadata": {
    "collapsed": false,
    "pycharm": {
     "name": "#%%\n"
    }
   }
  },
  {
   "cell_type": "code",
   "execution_count": 4,
   "outputs": [
    {
     "name": "stdout",
     "output_type": "stream",
     "text": [
      "Loading from iteration best.\n",
      "Using [StateNormalizationTransformer, RewardNormalizationTransformer] for preprocessing.\n"
     ]
    },
    {
     "name": "stderr",
     "output_type": "stream",
     "text": [
      "/home/weidler/workspace/angorapy-agents/venv/lib/python3.8/site-packages/gym/envs/registration.py:619: UserWarning: \u001B[33mWARN: Env check failed with the following message: The observation returned by the `reset()` method does not match the given observation space\n",
      "You can set `disable_env_checker=True` to disable this check.\u001B[0m\n",
      "  logger.warn(\n",
      "2022-09-06 17:23:47.562668: I tensorflow/core/platform/cpu_feature_guard.cc:193] This TensorFlow binary is optimized with oneAPI Deep Neural Network Library (oneDNN) to use the following CPU instructions in performance-critical operations:  AVX2 AVX512F FMA\n",
      "To enable them in other operations, rebuild TensorFlow with the appropriate compiler flags.\n",
      "2022-09-06 17:23:48.381917: I tensorflow/core/common_runtime/gpu/gpu_device.cc:1532] Created device /job:localhost/replica:0/task:0/device:GPU:0 with 5687 MB memory:  -> device: 0, name: NVIDIA GeForce RTX 2080 SUPER, pci bus id: 0000:15:00.0, compute capability: 7.5\n"
     ]
    },
    {
     "name": "stdout",
     "output_type": "stream",
     "text": [
      "An MPI Optimizer with 1 ranks has been created; the following ranks optimize: [0]\n",
      "An MPI Optimizer with 1 ranks has been created; the following ranks optimize: [0]\n",
      "Loaded optimizer.\n"
     ]
    }
   ],
   "source": [
    "hanoi_agent = ang.agent.PPOAgent.from_agent_state(1662386552148226, from_iteration=\"best\")\n"
   ],
   "metadata": {
    "collapsed": false,
    "pycharm": {
     "name": "#%%\n"
    }
   }
  },
  {
   "cell_type": "code",
   "execution_count": null,
   "outputs": [],
   "source": [],
   "metadata": {
    "collapsed": false,
    "pycharm": {
     "name": "#%%\n"
    }
   }
  }
 ],
 "metadata": {
  "kernelspec": {
   "display_name": "Python 3",
   "language": "python",
   "name": "python3"
  },
  "language_info": {
   "codemirror_mode": {
    "name": "ipython",
    "version": 2
   },
   "file_extension": ".py",
   "mimetype": "text/x-python",
   "name": "python",
   "nbconvert_exporter": "python",
   "pygments_lexer": "ipython2",
   "version": "2.7.6"
  }
 },
 "nbformat": 4,
 "nbformat_minor": 0
}