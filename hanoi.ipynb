{
 "cells": [
  {
   "cell_type": "raw",
   "source": [],
   "metadata": {
    "collapsed": false,
    "pycharm": {
     "name": "#%% raw\n"
    }
   }
  },
  {
   "cell_type": "code",
   "execution_count": 1,
   "outputs": [
    {
     "name": "stderr",
     "output_type": "stream",
     "text": [
      "Warning: Gym version v0.24.0 has a number of critical issues with `gym.make` such that the `reset` and `step` functions are called before returning the environment. It is recommend to downgrading to v0.23.1 or upgrading to v0.25.1\n",
      "/home/weidler/workspace/angorapy-agents/venv/lib/python3.8/site-packages/flatbuffers/compat.py:19: DeprecationWarning: the imp module is deprecated in favour of importlib; see the module's documentation for alternative uses\n",
      "  import imp\n",
      "/home/weidler/workspace/angorapy-agents/venv/lib/python3.8/site-packages/keras/utils/image_utils.py:36: DeprecationWarning: NEAREST is deprecated and will be removed in Pillow 10 (2023-07-01). Use Resampling.NEAREST or Dither.NONE instead.\n",
      "  'nearest': pil_image.NEAREST,\n",
      "/home/weidler/workspace/angorapy-agents/venv/lib/python3.8/site-packages/keras/utils/image_utils.py:37: DeprecationWarning: BILINEAR is deprecated and will be removed in Pillow 10 (2023-07-01). Use Resampling.BILINEAR instead.\n",
      "  'bilinear': pil_image.BILINEAR,\n",
      "/home/weidler/workspace/angorapy-agents/venv/lib/python3.8/site-packages/keras/utils/image_utils.py:38: DeprecationWarning: BICUBIC is deprecated and will be removed in Pillow 10 (2023-07-01). Use Resampling.BICUBIC instead.\n",
      "  'bicubic': pil_image.BICUBIC,\n",
      "/home/weidler/workspace/angorapy-agents/venv/lib/python3.8/site-packages/keras/utils/image_utils.py:39: DeprecationWarning: HAMMING is deprecated and will be removed in Pillow 10 (2023-07-01). Use Resampling.HAMMING instead.\n",
      "  'hamming': pil_image.HAMMING,\n",
      "/home/weidler/workspace/angorapy-agents/venv/lib/python3.8/site-packages/keras/utils/image_utils.py:40: DeprecationWarning: BOX is deprecated and will be removed in Pillow 10 (2023-07-01). Use Resampling.BOX instead.\n",
      "  'box': pil_image.BOX,\n",
      "/home/weidler/workspace/angorapy-agents/venv/lib/python3.8/site-packages/keras/utils/image_utils.py:41: DeprecationWarning: LANCZOS is deprecated and will be removed in Pillow 10 (2023-07-01). Use Resampling.LANCZOS instead.\n",
      "  'lanczos': pil_image.LANCZOS,\n",
      "Invalid MIT-MAGIC-COOKIE-1 key"
     ]
    },
    {
     "name": "stdout",
     "output_type": "stream",
     "text": [
      "A MuJoCo path exists. MuJoCo is being loaded...\n",
      "Detected 1 GPU devices.\n"
     ]
    },
    {
     "name": "stderr",
     "output_type": "stream",
     "text": [
      "BokehDeprecationWarning: HSL() was deprecated in Bokeh 2.3.1 and will be removed, use RGB() or named colors instead.\n",
      "/home/weidler/workspace/angorapy-agents/venv/lib/python3.8/site-packages/bokeh/io/notebook.py:487: DeprecationWarning: The `source` parameter emit a  deprecation warning since IPython 8.0, it had no effects for a long time and will  be removed in future versions.\n",
      "  publish_display_data(data, metadata, source, transient=transient, **kwargs)\n"
     ]
    },
    {
     "data": {
      "text/html": "<div class=\"bk-root\">\n        <a href=\"https://bokeh.org\" target=\"_blank\" class=\"bk-logo bk-logo-small bk-logo-notebook\"></a>\n        <span id=\"1002\">Loading BokehJS ...</span>\n    </div>\n"
     },
     "metadata": {},
     "output_type": "display_data"
    },
    {
     "data": {
      "application/javascript": "(function(root) {\n  function now() {\n    return new Date();\n  }\n\n  const force = true;\n\n  if (typeof root._bokeh_onload_callbacks === \"undefined\" || force === true) {\n    root._bokeh_onload_callbacks = [];\n    root._bokeh_is_loading = undefined;\n  }\n\nconst JS_MIME_TYPE = 'application/javascript';\n  const HTML_MIME_TYPE = 'text/html';\n  const EXEC_MIME_TYPE = 'application/vnd.bokehjs_exec.v0+json';\n  const CLASS_NAME = 'output_bokeh rendered_html';\n\n  /**\n   * Render data to the DOM node\n   */\n  function render(props, node) {\n    const script = document.createElement(\"script\");\n    node.appendChild(script);\n  }\n\n  /**\n   * Handle when an output is cleared or removed\n   */\n  function handleClearOutput(event, handle) {\n    const cell = handle.cell;\n\n    const id = cell.output_area._bokeh_element_id;\n    const server_id = cell.output_area._bokeh_server_id;\n    // Clean up Bokeh references\n    if (id != null && id in Bokeh.index) {\n      Bokeh.index[id].model.document.clear();\n      delete Bokeh.index[id];\n    }\n\n    if (server_id !== undefined) {\n      // Clean up Bokeh references\n      const cmd_clean = \"from bokeh.io.state import curstate; print(curstate().uuid_to_server['\" + server_id + \"'].get_sessions()[0].document.roots[0]._id)\";\n      cell.notebook.kernel.execute(cmd_clean, {\n        iopub: {\n          output: function(msg) {\n            const id = msg.content.text.trim();\n            if (id in Bokeh.index) {\n              Bokeh.index[id].model.document.clear();\n              delete Bokeh.index[id];\n            }\n          }\n        }\n      });\n      // Destroy server and session\n      const cmd_destroy = \"import bokeh.io.notebook as ion; ion.destroy_server('\" + server_id + \"')\";\n      cell.notebook.kernel.execute(cmd_destroy);\n    }\n  }\n\n  /**\n   * Handle when a new output is added\n   */\n  function handleAddOutput(event, handle) {\n    const output_area = handle.output_area;\n    const output = handle.output;\n\n    // limit handleAddOutput to display_data with EXEC_MIME_TYPE content only\n    if ((output.output_type != \"display_data\") || (!Object.prototype.hasOwnProperty.call(output.data, EXEC_MIME_TYPE))) {\n      return\n    }\n\n    const toinsert = output_area.element.find(\".\" + CLASS_NAME.split(' ')[0]);\n\n    if (output.metadata[EXEC_MIME_TYPE][\"id\"] !== undefined) {\n      toinsert[toinsert.length - 1].firstChild.textContent = output.data[JS_MIME_TYPE];\n      // store reference to embed id on output_area\n      output_area._bokeh_element_id = output.metadata[EXEC_MIME_TYPE][\"id\"];\n    }\n    if (output.metadata[EXEC_MIME_TYPE][\"server_id\"] !== undefined) {\n      const bk_div = document.createElement(\"div\");\n      bk_div.innerHTML = output.data[HTML_MIME_TYPE];\n      const script_attrs = bk_div.children[0].attributes;\n      for (let i = 0; i < script_attrs.length; i++) {\n        toinsert[toinsert.length - 1].firstChild.setAttribute(script_attrs[i].name, script_attrs[i].value);\n        toinsert[toinsert.length - 1].firstChild.textContent = bk_div.children[0].textContent\n      }\n      // store reference to server id on output_area\n      output_area._bokeh_server_id = output.metadata[EXEC_MIME_TYPE][\"server_id\"];\n    }\n  }\n\n  function register_renderer(events, OutputArea) {\n\n    function append_mime(data, metadata, element) {\n      // create a DOM node to render to\n      const toinsert = this.create_output_subarea(\n        metadata,\n        CLASS_NAME,\n        EXEC_MIME_TYPE\n      );\n      this.keyboard_manager.register_events(toinsert);\n      // Render to node\n      const props = {data: data, metadata: metadata[EXEC_MIME_TYPE]};\n      render(props, toinsert[toinsert.length - 1]);\n      element.append(toinsert);\n      return toinsert\n    }\n\n    /* Handle when an output is cleared or removed */\n    events.on('clear_output.CodeCell', handleClearOutput);\n    events.on('delete.Cell', handleClearOutput);\n\n    /* Handle when a new output is added */\n    events.on('output_added.OutputArea', handleAddOutput);\n\n    /**\n     * Register the mime type and append_mime function with output_area\n     */\n    OutputArea.prototype.register_mime_type(EXEC_MIME_TYPE, append_mime, {\n      /* Is output safe? */\n      safe: true,\n      /* Index of renderer in `output_area.display_order` */\n      index: 0\n    });\n  }\n\n  // register the mime type if in Jupyter Notebook environment and previously unregistered\n  if (root.Jupyter !== undefined) {\n    const events = require('base/js/events');\n    const OutputArea = require('notebook/js/outputarea').OutputArea;\n\n    if (OutputArea.prototype.mime_types().indexOf(EXEC_MIME_TYPE) == -1) {\n      register_renderer(events, OutputArea);\n    }\n  }\n  if (typeof (root._bokeh_timeout) === \"undefined\" || force === true) {\n    root._bokeh_timeout = Date.now() + 5000;\n    root._bokeh_failed_load = false;\n  }\n\n  const NB_LOAD_WARNING = {'data': {'text/html':\n     \"<div style='background-color: #fdd'>\\n\"+\n     \"<p>\\n\"+\n     \"BokehJS does not appear to have successfully loaded. If loading BokehJS from CDN, this \\n\"+\n     \"may be due to a slow or bad network connection. Possible fixes:\\n\"+\n     \"</p>\\n\"+\n     \"<ul>\\n\"+\n     \"<li>re-rerun `output_notebook()` to attempt to load from CDN again, or</li>\\n\"+\n     \"<li>use INLINE resources instead, as so:</li>\\n\"+\n     \"</ul>\\n\"+\n     \"<code>\\n\"+\n     \"from bokeh.resources import INLINE\\n\"+\n     \"output_notebook(resources=INLINE)\\n\"+\n     \"</code>\\n\"+\n     \"</div>\"}};\n\n  function display_loaded() {\n    const el = document.getElementById(\"1002\");\n    if (el != null) {\n      el.textContent = \"BokehJS is loading...\";\n    }\n    if (root.Bokeh !== undefined) {\n      if (el != null) {\n        el.textContent = \"BokehJS \" + root.Bokeh.version + \" successfully loaded.\";\n      }\n    } else if (Date.now() < root._bokeh_timeout) {\n      setTimeout(display_loaded, 100)\n    }\n  }\n\n  function run_callbacks() {\n    try {\n      root._bokeh_onload_callbacks.forEach(function(callback) {\n        if (callback != null)\n          callback();\n      });\n    } finally {\n      delete root._bokeh_onload_callbacks\n    }\n    console.debug(\"Bokeh: all callbacks have finished\");\n  }\n\n  function load_libs(css_urls, js_urls, callback) {\n    if (css_urls == null) css_urls = [];\n    if (js_urls == null) js_urls = [];\n\n    root._bokeh_onload_callbacks.push(callback);\n    if (root._bokeh_is_loading > 0) {\n      console.debug(\"Bokeh: BokehJS is being loaded, scheduling callback at\", now());\n      return null;\n    }\n    if (js_urls == null || js_urls.length === 0) {\n      run_callbacks();\n      return null;\n    }\n    console.debug(\"Bokeh: BokehJS not loaded, scheduling load and callback at\", now());\n    root._bokeh_is_loading = css_urls.length + js_urls.length;\n\n    function on_load() {\n      root._bokeh_is_loading--;\n      if (root._bokeh_is_loading === 0) {\n        console.debug(\"Bokeh: all BokehJS libraries/stylesheets loaded\");\n        run_callbacks()\n      }\n    }\n\n    function on_error(url) {\n      console.error(\"failed to load \" + url);\n    }\n\n    for (let i = 0; i < css_urls.length; i++) {\n      const url = css_urls[i];\n      const element = document.createElement(\"link\");\n      element.onload = on_load;\n      element.onerror = on_error.bind(null, url);\n      element.rel = \"stylesheet\";\n      element.type = \"text/css\";\n      element.href = url;\n      console.debug(\"Bokeh: injecting link tag for BokehJS stylesheet: \", url);\n      document.body.appendChild(element);\n    }\n\n    for (let i = 0; i < js_urls.length; i++) {\n      const url = js_urls[i];\n      const element = document.createElement('script');\n      element.onload = on_load;\n      element.onerror = on_error.bind(null, url);\n      element.async = false;\n      element.src = url;\n      console.debug(\"Bokeh: injecting script tag for BokehJS library: \", url);\n      document.head.appendChild(element);\n    }\n  };\n\n  function inject_raw_css(css) {\n    const element = document.createElement(\"style\");\n    element.appendChild(document.createTextNode(css));\n    document.body.appendChild(element);\n  }\n\n  const js_urls = [\"https://cdn.bokeh.org/bokeh/release/bokeh-2.4.3.min.js\", \"https://cdn.bokeh.org/bokeh/release/bokeh-gl-2.4.3.min.js\", \"https://cdn.bokeh.org/bokeh/release/bokeh-widgets-2.4.3.min.js\", \"https://cdn.bokeh.org/bokeh/release/bokeh-tables-2.4.3.min.js\", \"https://cdn.bokeh.org/bokeh/release/bokeh-mathjax-2.4.3.min.js\"];\n  const css_urls = [];\n\n  const inline_js = [    function(Bokeh) {\n      Bokeh.set_log_level(\"info\");\n    },\nfunction(Bokeh) {\n    }\n  ];\n\n  function run_inline_js() {\n    if (root.Bokeh !== undefined || force === true) {\n          for (let i = 0; i < inline_js.length; i++) {\n      inline_js[i].call(root, root.Bokeh);\n    }\nif (force === true) {\n        display_loaded();\n      }} else if (Date.now() < root._bokeh_timeout) {\n      setTimeout(run_inline_js, 100);\n    } else if (!root._bokeh_failed_load) {\n      console.log(\"Bokeh: BokehJS failed to load within specified timeout.\");\n      root._bokeh_failed_load = true;\n    } else if (force !== true) {\n      const cell = $(document.getElementById(\"1002\")).parents('.cell').data().cell;\n      cell.output_area.append_execute_result(NB_LOAD_WARNING)\n    }\n  }\n\n  if (root._bokeh_is_loading === 0) {\n    console.debug(\"Bokeh: BokehJS loaded, going straight to plotting\");\n    run_inline_js();\n  } else {\n    load_libs(css_urls, js_urls, function() {\n      console.debug(\"Bokeh: BokehJS plotting callback run at\", now());\n      run_inline_js();\n    });\n  }\n}(window));",
      "application/vnd.bokehjs_load.v0+json": "(function(root) {\n  function now() {\n    return new Date();\n  }\n\n  const force = true;\n\n  if (typeof root._bokeh_onload_callbacks === \"undefined\" || force === true) {\n    root._bokeh_onload_callbacks = [];\n    root._bokeh_is_loading = undefined;\n  }\n\n\n  if (typeof (root._bokeh_timeout) === \"undefined\" || force === true) {\n    root._bokeh_timeout = Date.now() + 5000;\n    root._bokeh_failed_load = false;\n  }\n\n  const NB_LOAD_WARNING = {'data': {'text/html':\n     \"<div style='background-color: #fdd'>\\n\"+\n     \"<p>\\n\"+\n     \"BokehJS does not appear to have successfully loaded. If loading BokehJS from CDN, this \\n\"+\n     \"may be due to a slow or bad network connection. Possible fixes:\\n\"+\n     \"</p>\\n\"+\n     \"<ul>\\n\"+\n     \"<li>re-rerun `output_notebook()` to attempt to load from CDN again, or</li>\\n\"+\n     \"<li>use INLINE resources instead, as so:</li>\\n\"+\n     \"</ul>\\n\"+\n     \"<code>\\n\"+\n     \"from bokeh.resources import INLINE\\n\"+\n     \"output_notebook(resources=INLINE)\\n\"+\n     \"</code>\\n\"+\n     \"</div>\"}};\n\n  function display_loaded() {\n    const el = document.getElementById(\"1002\");\n    if (el != null) {\n      el.textContent = \"BokehJS is loading...\";\n    }\n    if (root.Bokeh !== undefined) {\n      if (el != null) {\n        el.textContent = \"BokehJS \" + root.Bokeh.version + \" successfully loaded.\";\n      }\n    } else if (Date.now() < root._bokeh_timeout) {\n      setTimeout(display_loaded, 100)\n    }\n  }\n\n  function run_callbacks() {\n    try {\n      root._bokeh_onload_callbacks.forEach(function(callback) {\n        if (callback != null)\n          callback();\n      });\n    } finally {\n      delete root._bokeh_onload_callbacks\n    }\n    console.debug(\"Bokeh: all callbacks have finished\");\n  }\n\n  function load_libs(css_urls, js_urls, callback) {\n    if (css_urls == null) css_urls = [];\n    if (js_urls == null) js_urls = [];\n\n    root._bokeh_onload_callbacks.push(callback);\n    if (root._bokeh_is_loading > 0) {\n      console.debug(\"Bokeh: BokehJS is being loaded, scheduling callback at\", now());\n      return null;\n    }\n    if (js_urls == null || js_urls.length === 0) {\n      run_callbacks();\n      return null;\n    }\n    console.debug(\"Bokeh: BokehJS not loaded, scheduling load and callback at\", now());\n    root._bokeh_is_loading = css_urls.length + js_urls.length;\n\n    function on_load() {\n      root._bokeh_is_loading--;\n      if (root._bokeh_is_loading === 0) {\n        console.debug(\"Bokeh: all BokehJS libraries/stylesheets loaded\");\n        run_callbacks()\n      }\n    }\n\n    function on_error(url) {\n      console.error(\"failed to load \" + url);\n    }\n\n    for (let i = 0; i < css_urls.length; i++) {\n      const url = css_urls[i];\n      const element = document.createElement(\"link\");\n      element.onload = on_load;\n      element.onerror = on_error.bind(null, url);\n      element.rel = \"stylesheet\";\n      element.type = \"text/css\";\n      element.href = url;\n      console.debug(\"Bokeh: injecting link tag for BokehJS stylesheet: \", url);\n      document.body.appendChild(element);\n    }\n\n    for (let i = 0; i < js_urls.length; i++) {\n      const url = js_urls[i];\n      const element = document.createElement('script');\n      element.onload = on_load;\n      element.onerror = on_error.bind(null, url);\n      element.async = false;\n      element.src = url;\n      console.debug(\"Bokeh: injecting script tag for BokehJS library: \", url);\n      document.head.appendChild(element);\n    }\n  };\n\n  function inject_raw_css(css) {\n    const element = document.createElement(\"style\");\n    element.appendChild(document.createTextNode(css));\n    document.body.appendChild(element);\n  }\n\n  const js_urls = [\"https://cdn.bokeh.org/bokeh/release/bokeh-2.4.3.min.js\", \"https://cdn.bokeh.org/bokeh/release/bokeh-gl-2.4.3.min.js\", \"https://cdn.bokeh.org/bokeh/release/bokeh-widgets-2.4.3.min.js\", \"https://cdn.bokeh.org/bokeh/release/bokeh-tables-2.4.3.min.js\", \"https://cdn.bokeh.org/bokeh/release/bokeh-mathjax-2.4.3.min.js\"];\n  const css_urls = [];\n\n  const inline_js = [    function(Bokeh) {\n      Bokeh.set_log_level(\"info\");\n    },\nfunction(Bokeh) {\n    }\n  ];\n\n  function run_inline_js() {\n    if (root.Bokeh !== undefined || force === true) {\n          for (let i = 0; i < inline_js.length; i++) {\n      inline_js[i].call(root, root.Bokeh);\n    }\nif (force === true) {\n        display_loaded();\n      }} else if (Date.now() < root._bokeh_timeout) {\n      setTimeout(run_inline_js, 100);\n    } else if (!root._bokeh_failed_load) {\n      console.log(\"Bokeh: BokehJS failed to load within specified timeout.\");\n      root._bokeh_failed_load = true;\n    } else if (force !== true) {\n      const cell = $(document.getElementById(\"1002\")).parents('.cell').data().cell;\n      cell.output_area.append_execute_result(NB_LOAD_WARNING)\n    }\n  }\n\n  if (root._bokeh_is_loading === 0) {\n    console.debug(\"Bokeh: BokehJS loaded, going straight to plotting\");\n    run_inline_js();\n  } else {\n    load_libs(css_urls, js_urls, function() {\n      console.debug(\"Bokeh: BokehJS plotting callback run at\", now());\n      run_inline_js();\n    });\n  }\n}(window));"
     },
     "metadata": {},
     "output_type": "display_data"
    },
    {
     "name": "stdout",
     "output_type": "stream",
     "text": [
      "Loading from iteration best.\n",
      "Using [StateNormalizationTransformer, RewardNormalizationTransformer] for preprocessing.\n"
     ]
    },
    {
     "name": "stderr",
     "output_type": "stream",
     "text": [
      "/home/weidler/workspace/angorapy-agents/venv/lib/python3.8/site-packages/gym/envs/registration.py:619: UserWarning: \u001B[33mWARN: Env check failed with the following message: The observation returned by the `reset()` method does not match the given observation space\n",
      "You can set `disable_env_checker=True` to disable this check.\u001B[0m\n",
      "  logger.warn(\n",
      "2022-09-14 14:55:21.832355: I tensorflow/core/platform/cpu_feature_guard.cc:193] This TensorFlow binary is optimized with oneAPI Deep Neural Network Library (oneDNN) to use the following CPU instructions in performance-critical operations:  AVX2 AVX512F FMA\n",
      "To enable them in other operations, rebuild TensorFlow with the appropriate compiler flags.\n",
      "2022-09-14 14:55:22.343595: I tensorflow/core/common_runtime/gpu/gpu_device.cc:1532] Created device /job:localhost/replica:0/task:0/device:GPU:0 with 3815 MB memory:  -> device: 0, name: NVIDIA GeForce RTX 2080 SUPER, pci bus id: 0000:15:00.0, compute capability: 7.5\n"
     ]
    },
    {
     "name": "stdout",
     "output_type": "stream",
     "text": [
      "An MPI Optimizer with 1 ranks has been created; the following ranks optimize: [0]\n",
      "An MPI Optimizer with 1 ranks has been created; the following ranks optimize: [0]\n",
      "Loaded optimizer.\n"
     ]
    }
   ],
   "source": [
    "import json\n",
    "\n",
    "import angorapy as ang\n",
    "import angorapy.environments\n",
    "import bokeh\n",
    "import numpy as np\n",
    "from bokeh.io import output_notebook, show\n",
    "\n",
    "from angorapy.analysis.investigation import Investigator\n",
    "from angorapy.common.const import PATH_TO_EXPERIMENTS\n",
    "from angorapy.utilities.monitor import training_plots as plots\n",
    "output_notebook()\n",
    "\n",
    "agent = ang.agent.PPOAgent.from_agent_state(1662386552148226, from_iteration=\"best\")\n",
    "investigator = Investigator.from_agent(agent)"
   ],
   "metadata": {
    "collapsed": false,
    "pycharm": {
     "name": "#%%\n"
    }
   }
  },
  {
   "cell_type": "markdown",
   "source": [
    "## Learning Curves & Statistics\n",
    "First things first, let us see how training of this agent went. We can easily plot the reward over training cycles, as follows"
   ],
   "metadata": {
    "collapsed": false,
    "pycharm": {
     "name": "#%% md\n"
    }
   }
  },
  {
   "cell_type": "code",
   "execution_count": 2,
   "outputs": [
    {
     "name": "stderr",
     "output_type": "stream",
     "text": [
      "/home/weidler/workspace/angorapy-agents/venv/lib/python3.8/site-packages/bokeh/io/notebook.py:487: DeprecationWarning: The `source` parameter emit a  deprecation warning since IPython 8.0, it had no effects for a long time and will  be removed in future versions.\n",
      "  publish_display_data(data, metadata, source, transient=transient, **kwargs)\n"
     ]
    },
    {
     "data": {
      "text/html": "\n  <div class=\"bk-root\" id=\"fd57c9b6-faf5-4386-87aa-c29a542ea028\" data-root-id=\"1004\"></div>\n"
     },
     "metadata": {},
     "output_type": "display_data"
    },
    {
     "data": {
      "application/javascript": "(function(root) {\n  function embed_document(root) {\n  const docs_json = {\"9d3c22ab-4a70-4b2e-8207-e3fb908455a9\":{\"defs\":[],\"roots\":{\"references\":[{\"attributes\":{\"background_fill_color\":\"#20262B\",\"below\":[{\"id\":\"1015\"}],\"border_fill_color\":\"#15191C\",\"center\":[{\"id\":\"1018\"},{\"id\":\"1022\"},{\"id\":\"1032\"},{\"id\":\"1052\"},{\"id\":\"1055\"},{\"id\":\"1057\"}],\"height\":500,\"left\":[{\"id\":\"1019\"}],\"outline_line_alpha\":0.25,\"outline_line_color\":null,\"renderers\":[{\"id\":\"1032\"},{\"id\":\"1038\"}],\"sizing_mode\":\"stretch_width\",\"title\":{\"id\":\"1005\"},\"toolbar\":{\"id\":\"1023\"},\"toolbar_location\":\"above\",\"x_range\":{\"id\":\"1007\"},\"x_scale\":{\"id\":\"1011\"},\"y_range\":{\"id\":\"1009\"},\"y_scale\":{\"id\":\"1013\"}},\"id\":\"1004\",\"subtype\":\"Figure\",\"type\":\"Plot\"},{\"attributes\":{\"end\":123.0512,\"start\":-14.92},\"id\":\"1009\",\"type\":\"Range1d\"},{\"attributes\":{\"callback\":null,\"mode\":\"vline\",\"tooltips\":[[\"Cycle\",\"@x\"],[\"Reward\",\"@y\"]]},\"id\":\"1003\",\"type\":\"HoverTool\"},{\"attributes\":{},\"id\":\"1013\",\"type\":\"LinearScale\"},{\"attributes\":{\"coordinates\":null,\"end\":{\"id\":\"1054\"},\"group\":null,\"line_color\":{\"value\":\"darkred\"},\"line_width\":{\"value\":2},\"source\":{\"id\":\"1066\"},\"start\":null,\"x_end\":{\"value\":84},\"x_start\":{\"value\":84},\"y_end\":{\"value\":99.93},\"y_start\":{\"value\":107.97832000000001}},\"id\":\"1055\",\"type\":\"Arrow\"},{\"attributes\":{\"axis_label\":\"Cycle\",\"axis_label_standoff\":10,\"axis_label_text_color\":\"#E0E0E0\",\"axis_label_text_font\":\"times\",\"axis_label_text_font_size\":\"12pt\",\"axis_label_text_font_style\":\"bold\",\"axis_line_alpha\":0,\"axis_line_color\":\"#E0E0E0\",\"coordinates\":null,\"formatter\":{\"id\":\"1045\"},\"group\":null,\"major_label_policy\":{\"id\":\"1046\"},\"major_label_text_color\":\"#E0E0E0\",\"major_label_text_font\":\"Helvetica\",\"major_label_text_font_size\":\"1.025em\",\"major_tick_line_alpha\":0,\"major_tick_line_color\":\"#E0E0E0\",\"minor_tick_line_alpha\":0,\"minor_tick_line_color\":\"#E0E0E0\",\"ticker\":{\"id\":\"1016\"}},\"id\":\"1015\",\"type\":\"LinearAxis\"},{\"attributes\":{\"data\":{},\"selected\":{\"id\":\"1073\"},\"selection_policy\":{\"id\":\"1072\"}},\"id\":\"1066\",\"type\":\"ColumnDataSource\"},{\"attributes\":{\"bottom_units\":\"screen\",\"coordinates\":null,\"fill_alpha\":0.5,\"fill_color\":\"lightgrey\",\"group\":null,\"left_units\":\"screen\",\"level\":\"overlay\",\"line_alpha\":1.0,\"line_color\":\"black\",\"line_dash\":[4,4],\"line_width\":2,\"right_units\":\"screen\",\"syncable\":false,\"top_units\":\"screen\"},\"id\":\"1051\",\"type\":\"BoxAnnotation\"},{\"attributes\":{\"source\":{\"id\":\"1034\"}},\"id\":\"1039\",\"type\":\"CDSView\"},{\"attributes\":{\"line_alpha\":0.1,\"line_color\":\"rgb(76, 114, 176)\",\"line_width\":2,\"x\":{\"field\":\"x\"},\"y\":{\"field\":\"y\"}},\"id\":\"1036\",\"type\":\"Line\"},{\"attributes\":{\"fill_color\":{\"value\":\"red\"},\"line_color\":{\"value\":\"darkred\"},\"line_width\":{\"value\":2},\"size\":{\"value\":10}},\"id\":\"1054\",\"type\":\"NormalHead\"},{\"attributes\":{\"background_fill_color\":\"white\",\"border_line_alpha\":0,\"border_line_color\":\"black\",\"coordinates\":null,\"group\":null,\"text\":\"99.93\",\"text_align\":\"center\",\"text_color\":\"darkred\",\"text_font_size\":\"10pt\",\"text_line_height\":1.5,\"x\":84,\"y\":108.5532},\"id\":\"1057\",\"type\":\"Label\"},{\"attributes\":{\"base\":{\"field\":\"x\"},\"coordinates\":null,\"fill_alpha\":0.2,\"fill_color\":\"rgb(76, 114, 176)\",\"group\":null,\"line_alpha\":0.4,\"line_color\":\"rgb(76, 114, 176)\",\"lower\":{\"field\":\"lower\"},\"source\":{\"id\":\"1031\"},\"upper\":{\"field\":\"upper\"}},\"id\":\"1032\",\"type\":\"Band\"},{\"attributes\":{},\"id\":\"1072\",\"type\":\"UnionRenderers\"},{\"attributes\":{\"data\":{\"index\":[0,1,2,3,4,5,6,7,8,9,10,11,12,13,14,15,16,17,18,19,20,21,22,23,24,25,26,27,28,29,30,31,32,33,34,35,36,37,38,39,40,41,42,43,44,45,46,47,48,49,50,51,52,53,54,55,56,57,58,59,60,61,62,63,64,65,66,67,68,69,70,71,72,73,74,75,76,77,78,79,80,81,82,83,84,85,86,87,88,89,90,91,92,93,94,95,96,97,98,99],\"level_0\":[0,1,2,3,4,5,6,7,8,9,10,11,12,13,14,15,16,17,18,19,20,21,22,23,24,25,26,27,28,29,30,31,32,33,34,35,36,37,38,39,40,41,42,43,44,45,46,47,48,49,50,51,52,53,54,55,56,57,58,59,60,61,62,63,64,65,66,67,68,69,70,71,72,73,74,75,76,77,78,79,80,81,82,83,84,85,86,87,88,89,90,91,92,93,94,95,96,97,98,99],\"lower\":{\"__ndarray__\":\"16NwPQrXLcAk2/l+arwAwJqZmZmZ2TxAcmiR7Xx/R0Bg5dAi25lOQJhuEoPAmlBArBxaZDvvU0D4U+OlmwRVQHsUrkfhalZAbxKDwMohV0BQjZduEqNXQC/dJAaB9VdA46WbxCAAWEDZzvdT4zVYQB1aZDvfT1hAGi/dJAZRWECF61G4HmVYQLkehetRaFhAHVpkO98vWEBT46WbxHBYQNz5fmq8ZFhA30+Nl26CWEBiEFg5tHhYQOj7qfHSbVhAg8DKoUV2WEBwPQrXo5BYQKAaL90kdlhA4XoUrkeBWEBMN4lBYJVYQL6fGi/dhFhAaJHtfD+VWEDJdr6fGo9YQBFYObTIplhASgwCK4emWEA/NV66SaxYQJ3vp8ZLt1hA7Xw/NV66WEAGgZVDi7xYQARWDi2yvVhAke18PzW+WEApXI/C9chYQFYOLbKdz1hAFtnO91PTWEDXo3A9CtdYQGdmZmZmxlhAI9v5fmrcWEC38/3UeKlYQJ3vp8ZLx1hAOIlBYOXQWECJQWDl0OJYQIGVQ4ts11hAlBgEVg7dWEAnMQisHOpYQObQItv57lhA46WbxCDwWEDGSzeJQfBYQMDKoUW281hAFa5H4Xr0WEAVrkfhevRYQIPAyqFF9lhAEVg5tMjWWECQwvUoXN9YQAVWDi2y7VhA9P3UeOn2WEDXo3A9CvdYQAwCK4cW+VhA1XjpJjH4WEDHSzeJQdBYQBBYObTI5lhA1XjpJjH4WED2KFyPwrVYQMDKoUW201hAObTIdr7fWEBiEFg5tOhYQIlBYOXQwlhAIbByaJHtWEBoke18P/VYQClcj8L1+FhAFa5H4Xr0WEArhxbZzvdYQGDl0CLbyVhAdr6fGi/dWEDP91PjpetYQPp+arx081hAJzEIrBz6WEDTTWIQWPlYQKrx0k1i4FhAFa5H4Xr0WEAL16NwPcpYQJVDi2zn21hASgwCK4fmWED0/dR46eZYQM/3U+Ol61hAiUFg5dDyWEDTTWIQWPlYQCcxCKwc+lhA2/l+arzkWEC0yHa+n+pYQPT91Hjp9lhA5tAi2/nuVEA=\",\"dtype\":\"float64\",\"order\":\"little\",\"shape\":[100]},\"upper\":{\"__ndarray__\":\"o3A9CtejKkCYbhKDwEozQBWuR+F69EdAtvP91HipTUAcWmQ7359RQJzEILBy2FJAXrpJDAL7VEBuEoPAyuFVQMP1KFyP8lZA7Xw/NV56V0D4U+Olm+RXQA8tsp3vJ1hAy6FFtvNNWEChRbbz/WRYQO18PzVeelhAsp3vp8Z7WEDrUbgehYtYQOF6FK5HkVhA7Xw/NV6aWEDVeOkmMZhYQFg5tMh2jlhAhxbZzvejWECe76fGS6dYQLx0kxgEllhAz/dT46WbWECuR+F6FK5YQBgEVg4tolhA61G4HoWrWED8qfHSTbJYQPCnxks3qVhAokW28/20WEAZBFYOLbJYQHWTGARWvlhA/tR46SbBWEAxCKwcWsRYQCUGgZVDy1hAO99PjZfOWEDGSzeJQdBYQIxs5/up0VhA30+Nl27SWEB7FK5H4dpYQFg5tMh23lhA/tR46SbhWECF61G4HuVYQHsUrkfh2lhAQ4ts5/vpWEA1XrpJDMJYQCUGgZVD21hA/Knx0k3iWEDJdr6fGu9YQEFg5dAi61hAWDm0yHbuWED3U+Olm/RYQGIQWDm0+FhARbbz/dT4WEBiEFg5tPhYQO58PzVe+lhAexSuR+H6WEB7FK5H4fpYQM/3U+Ol+1hALbKd76fmWEBcj8L1KOxYQIGVQ4ts91hAQDVeukn8WEBdj8L1KPxYQOomMQis/FhAPzVeukn8WEAv3SQGgeVYQGq8dJMY9FhAPzVeukn8WECuR+F6FM5YQPhT46Wb5FhAkxgEVg7tWED6fmq8dPNYQN0kBoGVA1lAZTvfT433WEAIrBxaZPtYQM3MzMzM/FhAexSuR+H6WEDpJjEIrPxYQAaBlUOL3FhAsp3vp8brWEATg8DKofVYQLTIdr6f+lhAsXJoke38WEAj2/l+avxYQObQItv57lhAexSuR+H6WEB7FK5H4dpYQNEi2/l+6lhAbhKDwMrxWECmm8QgsPJYQBODwMqh9VhAQ4ts5/v5WEAj2/l+avxYQLFyaJHt/FhAGy/dJAbxWEBMN4lBYPVYQEA1XrpJ/FhAYhBYObS4V0A=\",\"dtype\":\"float64\",\"order\":\"little\",\"shape\":[100]},\"x\":[0,1,2,3,4,5,6,7,8,9,10,11,12,13,14,15,16,17,18,19,20,21,22,23,24,25,26,27,28,29,30,31,32,33,34,35,36,37,38,39,40,41,42,43,44,45,46,47,48,49,50,51,52,53,54,55,56,57,58,59,60,61,62,63,64,65,66,67,68,69,70,71,72,73,74,75,76,77,78,79,80,81,82,83,84,85,86,87,88,89,90,91,92,93,94,95,96,97,98,99],\"y\":{\"__ndarray__\":\"mpmZmZmZ6b8zMzMzMzMhQHE9CtejMENAFK5H4XqUSkBmZmZmZnZQQJqZmZmZuVFAhetRuB51VEAzMzMzM3NVQB+F61G4rlZArkfhehROV0CkcD0K18NXQB+F61G4DlhA16NwPQonWEA9CtejcE1YQIXrUbgeZVhAZmZmZmZmWEC4HoXrUXhYQM3MzMzMfFhAhetRuB5lWEAUrkfheoRYQJqZmZmZeVhAMzMzMzOTWEAAAAAAAJBYQFK4HoXrgVhAKVyPwvWIWECPwvUoXJ9YQFyPwvUojFhAZmZmZmaWWECkcD0K16NYQNejcD0Kl1hAhetRuB6lWEBxPQrXo6BYQMP1KFyPslhApHA9CtezWEC4HoXrUbhYQOF6FK5HwVhAFK5H4XrEWEBmZmZmZsZYQEjhehSux1hAuB6F61HIWEBSuB6F69FYQNejcD0K11hACtejcD3aWECuR+F6FN5YQHE9Ctej0FhAMzMzMzPjWED2KFyPwrVYQOF6FK5H0VhAmpmZmZnZWEApXI/C9ehYQOF6FK5H4VhA9ihcj8LlWECPwvUoXO9YQKRwPQrX81hAFK5H4Xr0WEAUrkfhevRYQNejcD0K91hASOF6FK73WEBI4XoUrvdYQClcj8L1+FhAH4XrUbjeWED2KFyPwuVYQMP1KFyP8lhAmpmZmZn5WECamZmZmflYQHsUrkfh+lhACtejcD36WEB7FK5H4dpYQD0K16Nw7VhACtejcD36WEBSuB6F68FYQFyPwvUo3FhAZmZmZmbmWECuR+F6FO5YQDMzMzMz41hAw/UoXI/yWEC4HoXrUfhYQHsUrkfh+lhASOF6FK73WEAK16NwPfpYQDMzMzMz01hAFK5H4XrkWEBxPQrXo/BYQNejcD0K91hA7FG4HoX7WEB7FK5H4fpYQEjhehSu51hASOF6FK73WEDD9Shcj9JYQDMzMzMz41hAXI/C9SjsWEDNzMzMzOxYQHE9Ctej8FhAZmZmZmb2WEB7FK5H4fpYQOxRuB6F+1hAexSuR+HqWEAAAAAAAPBYQJqZmZmZ+VhApHA9CtdTVkA=\",\"dtype\":\"float64\",\"order\":\"little\",\"shape\":[100]}},\"selected\":{\"id\":\"1048\"},\"selection_policy\":{\"id\":\"1047\"}},\"id\":\"1031\",\"type\":\"ColumnDataSource\"},{\"attributes\":{},\"id\":\"1048\",\"type\":\"Selection\"},{\"attributes\":{},\"id\":\"1073\",\"type\":\"Selection\"},{\"attributes\":{\"axis\":{\"id\":\"1019\"},\"coordinates\":null,\"dimension\":1,\"grid_line_alpha\":0.25,\"grid_line_color\":\"#E0E0E0\",\"group\":null,\"ticker\":null,\"visible\":false},\"id\":\"1022\",\"type\":\"Grid\"},{\"attributes\":{\"coordinates\":null,\"data_source\":{\"id\":\"1034\"},\"glyph\":{\"id\":\"1035\"},\"group\":null,\"hover_glyph\":null,\"muted_glyph\":{\"id\":\"1037\"},\"nonselection_glyph\":{\"id\":\"1036\"},\"view\":{\"id\":\"1039\"}},\"id\":\"1038\",\"type\":\"GlyphRenderer\"},{\"attributes\":{},\"id\":\"1050\",\"type\":\"Selection\"},{\"attributes\":{\"logo\":null,\"tools\":[{\"id\":\"1003\"},{\"id\":\"1025\"},{\"id\":\"1027\"},{\"id\":\"1029\"}]},\"id\":\"1023\",\"type\":\"Toolbar\"},{\"attributes\":{},\"id\":\"1027\",\"type\":\"ResetTool\"},{\"attributes\":{\"data\":{\"x\":[0,1,2,3,4,5,6,7,8,9,10,11,12,13,14,15,16,17,18,19,20,21,22,23,24,25,26,27,28,29,30,31,32,33,34,35,36,37,38,39,40,41,42,43,44,45,46,47,48,49,50,51,52,53,54,55,56,57,58,59,60,61,62,63,64,65,66,67,68,69,70,71,72,73,74,75,76,77,78,79,80,81,82,83,84,85,86,87,88,89,90,91,92,93,94,95,96,97,98,99],\"y\":{\"__ndarray__\":\"mpmZmZmZ6b8zMzMzMzMhQHE9CtejMENAFK5H4XqUSkBmZmZmZnZQQJqZmZmZuVFAhetRuB51VEAzMzMzM3NVQB+F61G4rlZArkfhehROV0CkcD0K18NXQB+F61G4DlhA16NwPQonWEA9CtejcE1YQIXrUbgeZVhAZmZmZmZmWEC4HoXrUXhYQM3MzMzMfFhAhetRuB5lWEAUrkfheoRYQJqZmZmZeVhAMzMzMzOTWEAAAAAAAJBYQFK4HoXrgVhAKVyPwvWIWECPwvUoXJ9YQFyPwvUojFhAZmZmZmaWWECkcD0K16NYQNejcD0Kl1hAhetRuB6lWEBxPQrXo6BYQMP1KFyPslhApHA9CtezWEC4HoXrUbhYQOF6FK5HwVhAFK5H4XrEWEBmZmZmZsZYQEjhehSux1hAuB6F61HIWEBSuB6F69FYQNejcD0K11hACtejcD3aWECuR+F6FN5YQHE9Ctej0FhAMzMzMzPjWED2KFyPwrVYQOF6FK5H0VhAmpmZmZnZWEApXI/C9ehYQOF6FK5H4VhA9ihcj8LlWECPwvUoXO9YQKRwPQrX81hAFK5H4Xr0WEAUrkfhevRYQNejcD0K91hASOF6FK73WEBI4XoUrvdYQClcj8L1+FhAH4XrUbjeWED2KFyPwuVYQMP1KFyP8lhAmpmZmZn5WECamZmZmflYQHsUrkfh+lhACtejcD36WEB7FK5H4dpYQD0K16Nw7VhACtejcD36WEBSuB6F68FYQFyPwvUo3FhAZmZmZmbmWECuR+F6FO5YQDMzMzMz41hAw/UoXI/yWEC4HoXrUfhYQHsUrkfh+lhASOF6FK73WEAK16NwPfpYQDMzMzMz01hAFK5H4XrkWEBxPQrXo/BYQNejcD0K91hA7FG4HoX7WEB7FK5H4fpYQEjhehSu51hASOF6FK73WEDD9Shcj9JYQDMzMzMz41hAXI/C9SjsWEDNzMzMzOxYQHE9Ctej8FhAZmZmZmb2WEB7FK5H4fpYQOxRuB6F+1hAexSuR+HqWEAAAAAAAPBYQJqZmZmZ+VhApHA9CtdTVkA=\",\"dtype\":\"float64\",\"order\":\"little\",\"shape\":[100]}},\"selected\":{\"id\":\"1050\"},\"selection_policy\":{\"id\":\"1049\"}},\"id\":\"1034\",\"type\":\"ColumnDataSource\"},{\"attributes\":{\"background_fill_alpha\":0.25,\"background_fill_color\":\"#20262B\",\"border_line_alpha\":0,\"coordinates\":null,\"glyph_width\":15,\"group\":null,\"items\":[{\"id\":\"1053\"}],\"label_standoff\":8,\"label_text_color\":\"#E0E0E0\",\"label_text_font\":\"times\",\"label_text_font_size\":\"12pt\",\"location\":\"bottom_right\",\"spacing\":8},\"id\":\"1052\",\"type\":\"Legend\"},{\"attributes\":{},\"id\":\"1020\",\"type\":\"BasicTicker\"},{\"attributes\":{},\"id\":\"1047\",\"type\":\"UnionRenderers\"},{\"attributes\":{},\"id\":\"1049\",\"type\":\"UnionRenderers\"},{\"attributes\":{\"label\":{\"value\":\"Reward\"},\"renderers\":[{\"id\":\"1038\"}]},\"id\":\"1053\",\"type\":\"LegendItem\"},{\"attributes\":{},\"id\":\"1029\",\"type\":\"SaveTool\"},{\"attributes\":{\"overlay\":{\"id\":\"1051\"}},\"id\":\"1025\",\"type\":\"BoxZoomTool\"},{\"attributes\":{\"axis_label\":\"Total Episode Return\",\"axis_label_standoff\":10,\"axis_label_text_color\":\"#E0E0E0\",\"axis_label_text_font\":\"times\",\"axis_label_text_font_size\":\"12pt\",\"axis_label_text_font_style\":\"bold\",\"axis_line_alpha\":0,\"axis_line_color\":\"#E0E0E0\",\"coordinates\":null,\"formatter\":{\"id\":\"1042\"},\"group\":null,\"major_label_policy\":{\"id\":\"1043\"},\"major_label_text_color\":\"#E0E0E0\",\"major_label_text_font\":\"Helvetica\",\"major_label_text_font_size\":\"1.025em\",\"major_tick_line_alpha\":0,\"major_tick_line_color\":\"#E0E0E0\",\"minor_tick_line_alpha\":0,\"minor_tick_line_color\":\"#E0E0E0\",\"ticker\":{\"id\":\"1020\"}},\"id\":\"1019\",\"type\":\"LinearAxis\"},{\"attributes\":{\"line_color\":\"rgb(76, 114, 176)\",\"line_width\":2,\"x\":{\"field\":\"x\"},\"y\":{\"field\":\"y\"}},\"id\":\"1035\",\"type\":\"Line\"},{\"attributes\":{\"align\":\"center\",\"coordinates\":null,\"group\":null,\"text\":\"Average Rewards per Cycle\",\"text_color\":\"#E0E0E0\",\"text_font\":\"Fira Sans\",\"text_font_size\":\"14pt\"},\"id\":\"1005\",\"type\":\"Title\"},{\"attributes\":{\"line_alpha\":0.2,\"line_color\":\"rgb(76, 114, 176)\",\"line_width\":2,\"x\":{\"field\":\"x\"},\"y\":{\"field\":\"y\"}},\"id\":\"1037\",\"type\":\"Line\"},{\"attributes\":{},\"id\":\"1042\",\"type\":\"BasicTickFormatter\"},{\"attributes\":{\"end\":99},\"id\":\"1007\",\"type\":\"Range1d\"},{\"attributes\":{},\"id\":\"1045\",\"type\":\"BasicTickFormatter\"},{\"attributes\":{},\"id\":\"1016\",\"type\":\"BasicTicker\"},{\"attributes\":{\"axis\":{\"id\":\"1015\"},\"coordinates\":null,\"grid_line_alpha\":0.25,\"grid_line_color\":\"#E0E0E0\",\"group\":null,\"ticker\":null,\"visible\":false},\"id\":\"1018\",\"type\":\"Grid\"},{\"attributes\":{},\"id\":\"1011\",\"type\":\"LinearScale\"},{\"attributes\":{},\"id\":\"1046\",\"type\":\"AllLabels\"},{\"attributes\":{},\"id\":\"1043\",\"type\":\"AllLabels\"}],\"root_ids\":[\"1004\"]},\"title\":\"Bokeh Application\",\"version\":\"2.4.3\"}};\n  const render_items = [{\"docid\":\"9d3c22ab-4a70-4b2e-8207-e3fb908455a9\",\"root_ids\":[\"1004\"],\"roots\":{\"1004\":\"fd57c9b6-faf5-4386-87aa-c29a542ea028\"}}];\n  root.Bokeh.embed.embed_items_notebook(docs_json, render_items);\n  }\n  if (root.Bokeh !== undefined) {\n    embed_document(root);\n  } else {\n    let attempts = 0;\n    const timer = setInterval(function(root) {\n      if (root.Bokeh !== undefined) {\n        clearInterval(timer);\n        embed_document(root);\n      } else {\n        attempts++;\n        if (attempts > 100) {\n          clearInterval(timer);\n          console.log(\"Bokeh: ERROR: Unable to run BokehJS code because BokehJS library is missing\");\n        }\n      }\n    }, 10, root)\n  }\n})(window);",
      "application/vnd.bokehjs_exec.v0+json": ""
     },
     "metadata": {
      "application/vnd.bokehjs_exec.v0+json": {
       "id": "1004"
      }
     },
     "output_type": "display_data"
    }
   ],
   "source": [
    "with open(f\"{PATH_TO_EXPERIMENTS}/{agent.agent_id}/progress.json\", \"r\") as f:\n",
    "    progress_data = json.load(f)\n",
    "\n",
    "reward_plot = plots.plot_reward_progress(progress_data[\"rewards\"], [])\n",
    "show(reward_plot)"
   ],
   "metadata": {
    "collapsed": false,
    "pycharm": {
     "name": "#%%\n"
    }
   }
  },
  {
   "cell_type": "markdown",
   "source": [
    "And the same we can do with the average episode length per cycle."
   ],
   "metadata": {
    "collapsed": false,
    "pycharm": {
     "name": "#%% md\n"
    }
   }
  },
  {
   "cell_type": "code",
   "execution_count": 3,
   "outputs": [
    {
     "name": "stderr",
     "output_type": "stream",
     "text": [
      "/home/weidler/workspace/angorapy-agents/venv/lib/python3.8/site-packages/bokeh/io/notebook.py:487: DeprecationWarning: The `source` parameter emit a  deprecation warning since IPython 8.0, it had no effects for a long time and will  be removed in future versions.\n",
      "  publish_display_data(data, metadata, source, transient=transient, **kwargs)\n"
     ]
    },
    {
     "data": {
      "text/html": "\n  <div class=\"bk-root\" id=\"35f5810d-539e-4043-9078-45ff8e524419\" data-root-id=\"1150\"></div>\n"
     },
     "metadata": {},
     "output_type": "display_data"
    },
    {
     "data": {
      "application/javascript": "(function(root) {\n  function embed_document(root) {\n  const docs_json = {\"8dd762cc-b717-46bc-a2a9-2ae9ff80bd32\":{\"defs\":[],\"roots\":{\"references\":[{\"attributes\":{\"background_fill_color\":\"#20262B\",\"below\":[{\"id\":\"1161\"}],\"border_fill_color\":\"#15191C\",\"center\":[{\"id\":\"1164\"},{\"id\":\"1168\"},{\"id\":\"1178\"},{\"id\":\"1198\"},{\"id\":\"1201\"},{\"id\":\"1203\"}],\"height\":500,\"left\":[{\"id\":\"1165\"}],\"outline_line_alpha\":0.25,\"outline_line_color\":null,\"renderers\":[{\"id\":\"1178\"},{\"id\":\"1184\"}],\"sizing_mode\":\"stretch_width\",\"title\":{\"id\":\"1151\"},\"toolbar\":{\"id\":\"1169\"},\"toolbar_location\":\"above\",\"x_range\":{\"id\":\"1153\"},\"x_scale\":{\"id\":\"1157\"},\"y_range\":{\"id\":\"1155\"},\"y_scale\":{\"id\":\"1159\"}},\"id\":\"1150\",\"subtype\":\"Figure\",\"type\":\"Plot\"},{\"attributes\":{},\"id\":\"1188\",\"type\":\"BasicTickFormatter\"},{\"attributes\":{\"source\":{\"id\":\"1180\"}},\"id\":\"1185\",\"type\":\"CDSView\"},{\"attributes\":{},\"id\":\"1233\",\"type\":\"UnionRenderers\"},{\"attributes\":{},\"id\":\"1234\",\"type\":\"Selection\"},{\"attributes\":{\"end\":99},\"id\":\"1153\",\"type\":\"Range1d\"},{\"attributes\":{},\"id\":\"1193\",\"type\":\"UnionRenderers\"},{\"attributes\":{\"callback\":null,\"mode\":\"vline\",\"tooltips\":[[\"Cycle\",\"@x\"],[\"Length\",\"@y\"]]},\"id\":\"1149\",\"type\":\"HoverTool\"},{\"attributes\":{},\"id\":\"1189\",\"type\":\"AllLabels\"},{\"attributes\":{},\"id\":\"1194\",\"type\":\"Selection\"},{\"attributes\":{\"end\":239.3434,\"start\":6.986},\"id\":\"1155\",\"type\":\"Range1d\"},{\"attributes\":{},\"id\":\"1162\",\"type\":\"BasicTicker\"},{\"attributes\":{},\"id\":\"1195\",\"type\":\"UnionRenderers\"},{\"attributes\":{\"axis_label\":\"Cycle\",\"axis_label_standoff\":10,\"axis_label_text_color\":\"#E0E0E0\",\"axis_label_text_font\":\"times\",\"axis_label_text_font_size\":\"12pt\",\"axis_label_text_font_style\":\"bold\",\"axis_line_alpha\":0,\"axis_line_color\":\"#E0E0E0\",\"coordinates\":null,\"formatter\":{\"id\":\"1191\"},\"group\":null,\"major_label_policy\":{\"id\":\"1192\"},\"major_label_text_color\":\"#E0E0E0\",\"major_label_text_font\":\"Helvetica\",\"major_label_text_font_size\":\"1.025em\",\"major_tick_line_alpha\":0,\"major_tick_line_color\":\"#E0E0E0\",\"minor_tick_line_alpha\":0,\"minor_tick_line_color\":\"#E0E0E0\",\"ticker\":{\"id\":\"1162\"}},\"id\":\"1161\",\"type\":\"LinearAxis\"},{\"attributes\":{\"overlay\":{\"id\":\"1197\"}},\"id\":\"1171\",\"type\":\"BoxZoomTool\"},{\"attributes\":{},\"id\":\"1196\",\"type\":\"Selection\"},{\"attributes\":{},\"id\":\"1157\",\"type\":\"LinearScale\"},{\"attributes\":{\"align\":\"center\",\"coordinates\":null,\"group\":null,\"text\":\"Average Length of Episodes\",\"text_color\":\"#E0E0E0\",\"text_font\":\"Fira Sans\",\"text_font_size\":\"14pt\"},\"id\":\"1151\",\"type\":\"Title\"},{\"attributes\":{\"axis\":{\"id\":\"1161\"},\"coordinates\":null,\"grid_line_alpha\":0.25,\"grid_line_color\":\"#E0E0E0\",\"group\":null,\"ticker\":null,\"visible\":false},\"id\":\"1164\",\"type\":\"Grid\"},{\"attributes\":{},\"id\":\"1159\",\"type\":\"LinearScale\"},{\"attributes\":{\"logo\":null,\"tools\":[{\"id\":\"1149\"},{\"id\":\"1171\"},{\"id\":\"1173\"},{\"id\":\"1175\"}]},\"id\":\"1169\",\"type\":\"Toolbar\"},{\"attributes\":{\"axis_label\":\"Total Episode Return\",\"axis_label_standoff\":10,\"axis_label_text_color\":\"#E0E0E0\",\"axis_label_text_font\":\"times\",\"axis_label_text_font_size\":\"12pt\",\"axis_label_text_font_style\":\"bold\",\"axis_line_alpha\":0,\"axis_line_color\":\"#E0E0E0\",\"coordinates\":null,\"formatter\":{\"id\":\"1188\"},\"group\":null,\"major_label_policy\":{\"id\":\"1189\"},\"major_label_text_color\":\"#E0E0E0\",\"major_label_text_font\":\"Helvetica\",\"major_label_text_font_size\":\"1.025em\",\"major_tick_line_alpha\":0,\"major_tick_line_color\":\"#E0E0E0\",\"minor_tick_line_alpha\":0,\"minor_tick_line_color\":\"#E0E0E0\",\"ticker\":{\"id\":\"1166\"}},\"id\":\"1165\",\"type\":\"LinearAxis\"},{\"attributes\":{\"axis\":{\"id\":\"1165\"},\"coordinates\":null,\"dimension\":1,\"grid_line_alpha\":0.25,\"grid_line_color\":\"#E0E0E0\",\"group\":null,\"ticker\":null,\"visible\":false},\"id\":\"1168\",\"type\":\"Grid\"},{\"attributes\":{},\"id\":\"1166\",\"type\":\"BasicTicker\"},{\"attributes\":{\"base\":{\"field\":\"x\"},\"coordinates\":null,\"fill_alpha\":0.2,\"fill_color\":\"rgb(221, 132, 82)\",\"group\":null,\"line_alpha\":0.4,\"line_color\":\"rgb(221, 132, 82)\",\"lower\":{\"field\":\"lower\"},\"source\":{\"id\":\"1177\"},\"upper\":{\"field\":\"upper\"}},\"id\":\"1178\",\"type\":\"Band\"},{\"attributes\":{\"data\":{\"x\":[0,1,2,3,4,5,6,7,8,9,10,11,12,13,14,15,16,17,18,19,20,21,22,23,24,25,26,27,28,29,30,31,32,33,34,35,36,37,38,39,40,41,42,43,44,45,46,47,48,49,50,51,52,53,54,55,56,57,58,59,60,61,62,63,64,65,66,67,68,69,70,71,72,73,74,75,76,77,78,79,80,81,82,83,84,85,86,87,88,89,90,91,92,93,94,95,96,97,98,99],\"y\":{\"__ndarray__\":\"MzMzMzMLaECkcD0K17NlQAAAAAAAgF5A9ihcj8IlV0ApXI/C9chQQNejcD0Kt0xAmpmZmZkZQ0ApXI/C9eg/QPYoXI/C9TVAcT0K16MwMkDD9Shcj8ItQKRwPQrXoylAKVyPwvUoKUAK16NwPQonQHsUrkfh+iVASOF6FK5HJkA9CtejcD0lQHE9Ctej8CRA4XoUrkfhJkCPwvUoXA8lQFK4HoXr0SVArkfhehSuI0DNzMzMzMwjQOxRuB6FayRASOF6FK5HJEAzMzMzM7MiQLgehetROCRAZmZmZmZmI0AK16NwPYoiQGZmZmZmZiNA7FG4HoVrIkCPwvUoXA8jQPYoXI/C9SFAuB6F61G4IkBxPQrXo/AhQMP1KFyPwiFAexSuR+H6IEBmZmZmZuYgQM3MzMzMzCBAzczMzMzMIEDsUbgehesfQK5H4XoUrh9ACtejcD0KH0CkcD0K16MeQMP1KFyPwh9AXI/C9ShcHkCamZmZmZkhQAAAAAAAgCBAMzMzMzMzIEAfhetRuB4fQHsUrkfheh9AhetRuB6FHkBcj8L1KFwdQAAAAAAAAB1ApHA9CtejHEDD9Shcj8IcQFyPwvUoXBxAexSuR+F6HEBmZmZmZmYcQFK4HoXrURxASOF6FK5HHkCkcD0K16MdQOxRuB6F6xxAPQrXo3A9HEA9CtejcD0cQDMzMzMzMxxAH4XrUbgeHEDsUbgeheseQIXrUbgehR1AKVyPwvUoHEAfhetRuB4hQI/C9ShcDyBASOF6FK5HH0CPwvUoXI8eQIXrUbgehSBAZmZmZmZmHkC4HoXrUbgcQB+F61G4HhxAcT0K16NwHkDNzMzMzMwcQGZmZmZmZh9AMzMzMzMzHkBI4XoUrkcdQKRwPQrXoxxAFK5H4XoUHEAUrkfhehQcQNejcD0K1x1AcT0K16NwHEDNzMzMzMwfQLgehetRuB5AcT0K16NwHkBmZmZmZmYfQMP1KFyPwh1A9ihcj8L1HEAfhetRuB4cQBSuR+F6FBxAmpmZmZmZHUAAAAAAAAAdQDMzMzMzMxxAcT0K16NQTUA=\",\"dtype\":\"float64\",\"order\":\"little\",\"shape\":[100]}},\"selected\":{\"id\":\"1196\"},\"selection_policy\":{\"id\":\"1195\"}},\"id\":\"1180\",\"type\":\"ColumnDataSource\"},{\"attributes\":{},\"id\":\"1173\",\"type\":\"ResetTool\"},{\"attributes\":{\"background_fill_color\":\"white\",\"border_line_color\":\"black\",\"coordinates\":null,\"group\":null,\"text\":\"192.35\",\"text_align\":\"center\",\"text_font_size\":\"10pt\",\"text_line_height\":1.5,\"x\":0,\"y\":213.4734},\"id\":\"1203\",\"type\":\"Label\"},{\"attributes\":{},\"id\":\"1175\",\"type\":\"SaveTool\"},{\"attributes\":{\"fill_color\":{\"value\":\"red\"},\"line_color\":{\"value\":\"darkred\"},\"line_width\":{\"value\":2},\"size\":{\"value\":15}},\"id\":\"1200\",\"type\":\"NormalHead\"},{\"attributes\":{\"line_alpha\":0.1,\"line_color\":\"rgb(221, 132, 82)\",\"line_width\":2,\"x\":{\"field\":\"x\"},\"y\":{\"field\":\"y\"}},\"id\":\"1182\",\"type\":\"Line\"},{\"attributes\":{\"coordinates\":null,\"data_source\":{\"id\":\"1180\"},\"glyph\":{\"id\":\"1181\"},\"group\":null,\"hover_glyph\":null,\"muted_glyph\":{\"id\":\"1183\"},\"nonselection_glyph\":{\"id\":\"1182\"},\"view\":{\"id\":\"1185\"}},\"id\":\"1184\",\"type\":\"GlyphRenderer\"},{\"attributes\":{\"line_color\":\"rgb(221, 132, 82)\",\"line_width\":2,\"x\":{\"field\":\"x\"},\"y\":{\"field\":\"y\"}},\"id\":\"1181\",\"type\":\"Line\"},{\"attributes\":{\"data\":{\"index\":[0,1,2,3,4,5,6,7,8,9,10,11,12,13,14,15,16,17,18,19,20,21,22,23,24,25,26,27,28,29,30,31,32,33,34,35,36,37,38,39,40,41,42,43,44,45,46,47,48,49,50,51,52,53,54,55,56,57,58,59,60,61,62,63,64,65,66,67,68,69,70,71,72,73,74,75,76,77,78,79,80,81,82,83,84,85,86,87,88,89,90,91,92,93,94,95,96,97,98,99],\"level_0\":[0,1,2,3,4,5,6,7,8,9,10,11,12,13,14,15,16,17,18,19,20,21,22,23,24,25,26,27,28,29,30,31,32,33,34,35,36,37,38,39,40,41,42,43,44,45,46,47,48,49,50,51,52,53,54,55,56,57,58,59,60,61,62,63,64,65,66,67,68,69,70,71,72,73,74,75,76,77,78,79,80,81,82,83,84,85,86,87,88,89,90,91,92,93,94,95,96,97,98,99],\"lower\":{\"__ndarray__\":\"j8L1KFzPZECLbOf7qTFjQCGwcmiRvVlAXI/C9SgsVEAtsp3vpyZNQIPAyqFFlkhAXY/C9SjcQED+1HjpJvE7QPYoXI/C9TNAw/UoXI8CMUC7SQwCKwcsQKwcWmQ7XyhAzczMzMxMJ0Atsp3vp8YlQKJFtvP91CRASgwCK4cWJUDpJjEIrBwkQAisHFpkuyNABoGVQ4tsIkD8qfHSTeIjQCuHFtnOdyRATmIQWDm0IkA+CtejcL0iQG3n+6nxUiNAppvEILDyIkCyne+nxsshQHSTGARWDiNAbOf7qfFSIkCXbhKDwMohQH0/NV66SSJABVYOLbKdIUBqvHSTGAQiQIcW2c73UyFAQWDl0CLbIUAj2/l+ajwhQBWuR+F6FCFAnMQgsHJoIEC28/3UeGkgQLkehetROCBAnu+nxks3IEDTTWIQWDkfQMuhRbbz/R5AhetRuB6FHkD0/dR46SYeQGu8dJMYBB9ADAIrhxbZHUBKDAIrhxYhQGq8dJMYBCBAmZmZmZmZH0BQjZduEoMeQLpJDAIrhx5AmpmZmZmZHUBMN4lBYOUcQPp+arx0kxxAUrgehetRHEAHgZVDi2wcQFTjpZvEIBxAMzMzMzMzHECJQWDl0CIcQN9PjZduEhxAWDm0yHa+HUD+1HjpJjEdQLtJDAIrhxxAPzVeukkMHEA/NV66SQwcQGq8dJMYBBxAYeXQItv5G0BANV66SQweQEFg5dAi2xxANV66SQwCHEAfhetRuJ4gQFG4HoXrUR9ApHA9CtejHkCq8dJNYhAeQEfhehSuRx5AJjEIrBxaHUCyne+nxkscQGHl0CLb+RtABoGVQ4tsHUDfT42XbhIcQGzn+6nx0h5ArkfhehSuHUAX2c73U+McQL10kxgEVhxAi2zn+6nxG0CVQ4ts5/sbQOkmMQisHB1Atch2vp8aHECe76fGSzcfQN0kBoGVQx5AC9ejcD0KHkDGSzeJQWAeQLXIdr6fGh1A5tAi2/l+HEBh5dAi2/kbQJVDi2zn+xtAqvHSTWIQHUAEVg4tsp0cQKAaL90kBhxASgwCK4f2RUA=\",\"dtype\":\"float64\",\"order\":\"little\",\"shape\":[100]},\"upper\":{\"__ndarray__\":\"16NwPQpHa0C9dJMYBDZoQPCnxks3oWFAkML1KFwfWkA730+Nl/5SQJZDi2zna1BA16NwPQpXRUCq8dJNYvBBQPYoXI/C9TdAH4XrUbheM0DLoUW2830vQJzEILBy6CpAhetRuB4FK0Dn+6nx0k0oQFTjpZvEICdARrbz/dR4J0CR7Xw/NV4mQNrO91PjJSZAvHSTGARWK0Ai2/l+ajwmQHnpJjEILCdADi2yne+nJEBcj8L1KNwkQGu8dJMYhCVA6iYxCKycJUC0yHa+n5ojQPyp8dJNYiVAYOXQItt5JEB9PzVeukkjQE+Nl24SgyRA001iEFg5I0C0yHa+nxokQGU730+NlyJAL90kBoGVI0C/nxov3aQiQHE9CtejcCJAWmQ730+NIUAW2c73U2MhQOF6FK5HYSFA/Knx0k1iIUACK4cW2U4gQMl2vp8aLyBAj8L1KFyPH0BU46WbxCAfQI6XbhKDQCBArBxaZDvfHkDqJjEIrBwiQJZDi2zn+yBAmZmZmZmZIEDufD81XrofQJ7vp8ZLNyBAcD0K16NwH0Bs5/up8dIdQAaBlUOLbB1A9ihcj8L1HEB/arx0kxgdQGQ730+NlxxAw/UoXI/CHEBDi2zn+6kcQMUgsHJokRxAOIlBYOXQHkBKDAIrhxYeQB1aZDvfTx1AO99PjZduHEA730+Nl24cQPyp8dJNYhxA3SQGgZVDHECYbhKDwMofQMl2vp8aLx5AHVpkO99PHEAfhetRuJ4hQPUoXI/CdSBA7FG4HoXrH0B0kxgEVg4fQGZmZmZm5iFAppvEILByH0C+nxov3SQdQN0kBoGVQxxA3Pl+arx0H0C7SQwCK4cdQGDl0CLb+R9AuB6F61G4HkB56SYxCKwdQIts5/up8RxAne+nxks3HECTGARWDi0cQMUgsHJokR5ALbKd76fGHED+1HjpJjEgQJMYBFYOLR9A16NwPQrXHkCDwMqhRTYgQNEi2/l+ah5ABoGVQ4tsHUDdJAaBlUMcQJMYBFYOLRxAikFg5dAiHkD8qfHSTWIdQMZLN4lBYBxATDeJQWBVUkA=\",\"dtype\":\"float64\",\"order\":\"little\",\"shape\":[100]},\"x\":[0,1,2,3,4,5,6,7,8,9,10,11,12,13,14,15,16,17,18,19,20,21,22,23,24,25,26,27,28,29,30,31,32,33,34,35,36,37,38,39,40,41,42,43,44,45,46,47,48,49,50,51,52,53,54,55,56,57,58,59,60,61,62,63,64,65,66,67,68,69,70,71,72,73,74,75,76,77,78,79,80,81,82,83,84,85,86,87,88,89,90,91,92,93,94,95,96,97,98,99],\"y\":{\"__ndarray__\":\"MzMzMzMLaECkcD0K17NlQAAAAAAAgF5A9ihcj8IlV0ApXI/C9chQQNejcD0Kt0xAmpmZmZkZQ0ApXI/C9eg/QPYoXI/C9TVAcT0K16MwMkDD9Shcj8ItQKRwPQrXoylAKVyPwvUoKUAK16NwPQonQHsUrkfh+iVASOF6FK5HJkA9CtejcD0lQHE9Ctej8CRA4XoUrkfhJkCPwvUoXA8lQFK4HoXr0SVArkfhehSuI0DNzMzMzMwjQOxRuB6FayRASOF6FK5HJEAzMzMzM7MiQLgehetROCRAZmZmZmZmI0AK16NwPYoiQGZmZmZmZiNA7FG4HoVrIkCPwvUoXA8jQPYoXI/C9SFAuB6F61G4IkBxPQrXo/AhQMP1KFyPwiFAexSuR+H6IEBmZmZmZuYgQM3MzMzMzCBAzczMzMzMIEDsUbgehesfQK5H4XoUrh9ACtejcD0KH0CkcD0K16MeQMP1KFyPwh9AXI/C9ShcHkCamZmZmZkhQAAAAAAAgCBAMzMzMzMzIEAfhetRuB4fQHsUrkfheh9AhetRuB6FHkBcj8L1KFwdQAAAAAAAAB1ApHA9CtejHEDD9Shcj8IcQFyPwvUoXBxAexSuR+F6HEBmZmZmZmYcQFK4HoXrURxASOF6FK5HHkCkcD0K16MdQOxRuB6F6xxAPQrXo3A9HEA9CtejcD0cQDMzMzMzMxxAH4XrUbgeHEDsUbgeheseQIXrUbgehR1AKVyPwvUoHEAfhetRuB4hQI/C9ShcDyBASOF6FK5HH0CPwvUoXI8eQIXrUbgehSBAZmZmZmZmHkC4HoXrUbgcQB+F61G4HhxAcT0K16NwHkDNzMzMzMwcQGZmZmZmZh9AMzMzMzMzHkBI4XoUrkcdQKRwPQrXoxxAFK5H4XoUHEAUrkfhehQcQNejcD0K1x1AcT0K16NwHEDNzMzMzMwfQLgehetRuB5AcT0K16NwHkBmZmZmZmYfQMP1KFyPwh1A9ihcj8L1HEAfhetRuB4cQBSuR+F6FBxAmpmZmZmZHUAAAAAAAAAdQDMzMzMzMxxAcT0K16NQTUA=\",\"dtype\":\"float64\",\"order\":\"little\",\"shape\":[100]}},\"selected\":{\"id\":\"1194\"},\"selection_policy\":{\"id\":\"1193\"}},\"id\":\"1177\",\"type\":\"ColumnDataSource\"},{\"attributes\":{\"data\":{},\"selected\":{\"id\":\"1234\"},\"selection_policy\":{\"id\":\"1233\"}},\"id\":\"1227\",\"type\":\"ColumnDataSource\"},{\"attributes\":{\"label\":{\"value\":\"Episode Length (time steps)\"},\"renderers\":[{\"id\":\"1184\"}]},\"id\":\"1199\",\"type\":\"LegendItem\"},{\"attributes\":{},\"id\":\"1192\",\"type\":\"AllLabels\"},{\"attributes\":{\"coordinates\":null,\"end\":{\"id\":\"1200\"},\"group\":null,\"line_color\":{\"value\":\"darkred\"},\"line_width\":{\"value\":2},\"source\":{\"id\":\"1227\"},\"start\":null,\"x_end\":{\"value\":0},\"x_start\":{\"value\":0},\"y_end\":{\"value\":192.35},\"y_start\":{\"value\":213.4734}},\"id\":\"1201\",\"type\":\"Arrow\"},{\"attributes\":{\"background_fill_alpha\":0.25,\"background_fill_color\":\"#20262B\",\"border_line_alpha\":0,\"coordinates\":null,\"glyph_width\":15,\"group\":null,\"items\":[{\"id\":\"1199\"}],\"label_standoff\":8,\"label_text_color\":\"#E0E0E0\",\"label_text_font\":\"times\",\"label_text_font_size\":\"12pt\",\"location\":\"bottom_right\",\"spacing\":8},\"id\":\"1198\",\"type\":\"Legend\"},{\"attributes\":{\"line_alpha\":0.2,\"line_color\":\"rgb(221, 132, 82)\",\"line_width\":2,\"x\":{\"field\":\"x\"},\"y\":{\"field\":\"y\"}},\"id\":\"1183\",\"type\":\"Line\"},{\"attributes\":{\"bottom_units\":\"screen\",\"coordinates\":null,\"fill_alpha\":0.5,\"fill_color\":\"lightgrey\",\"group\":null,\"left_units\":\"screen\",\"level\":\"overlay\",\"line_alpha\":1.0,\"line_color\":\"black\",\"line_dash\":[4,4],\"line_width\":2,\"right_units\":\"screen\",\"syncable\":false,\"top_units\":\"screen\"},\"id\":\"1197\",\"type\":\"BoxAnnotation\"},{\"attributes\":{},\"id\":\"1191\",\"type\":\"BasicTickFormatter\"}],\"root_ids\":[\"1150\"]},\"title\":\"Bokeh Application\",\"version\":\"2.4.3\"}};\n  const render_items = [{\"docid\":\"8dd762cc-b717-46bc-a2a9-2ae9ff80bd32\",\"root_ids\":[\"1150\"],\"roots\":{\"1150\":\"35f5810d-539e-4043-9078-45ff8e524419\"}}];\n  root.Bokeh.embed.embed_items_notebook(docs_json, render_items);\n  }\n  if (root.Bokeh !== undefined) {\n    embed_document(root);\n  } else {\n    let attempts = 0;\n    const timer = setInterval(function(root) {\n      if (root.Bokeh !== undefined) {\n        clearInterval(timer);\n        embed_document(root);\n      } else {\n        attempts++;\n        if (attempts > 100) {\n          clearInterval(timer);\n          console.log(\"Bokeh: ERROR: Unable to run BokehJS code because BokehJS library is missing\");\n        }\n      }\n    }, 10, root)\n  }\n})(window);",
      "application/vnd.bokehjs_exec.v0+json": ""
     },
     "metadata": {
      "application/vnd.bokehjs_exec.v0+json": {
       "id": "1150"
      }
     },
     "output_type": "display_data"
    }
   ],
   "source": [
    "with open(f\"{PATH_TO_EXPERIMENTS}/{agent.agent_id}/progress.json\", \"r\") as f:\n",
    "    progress_data = json.load(f)\n",
    "\n",
    "length_plot = plots.plot_length_progress(progress_data[\"lengths\"], [])\n",
    "show(length_plot)"
   ],
   "metadata": {
    "collapsed": false,
    "pycharm": {
     "name": "#%%\n"
    }
   }
  },
  {
   "cell_type": "markdown",
   "source": [
    "# Evaluation\n",
    "\n",
    "The above plots already show how performance progressed throughout training. Note, however, that AngoraPy trains agents with stochastic policies and, during training, encourages exploration. Thus, the above performance at every cycle is not entirely representative of the agents true potential. To evaluate its real performance, let us run 10 episodes without random exploration."
   ],
   "metadata": {
    "collapsed": false,
    "pycharm": {
     "name": "#%% md\n"
    }
   }
  },
  {
   "cell_type": "code",
   "execution_count": 4,
   "outputs": [
    {
     "name": "stderr",
     "output_type": "stream",
     "text": [
      "2022-09-14 14:55:26.142343: I tensorflow/stream_executor/cuda/cuda_dnn.cc:384] Loaded cuDNN version 8300\n"
     ]
    },
    {
     "name": "stdout",
     "output_type": "stream",
     "text": [
      "99.94000000000001\n"
     ]
    }
   ],
   "source": [
    "stats_eval = agent.evaluate(10, act_confidently=False)[0]  # todo act confidently\n",
    "print(np.mean(stats_eval.episode_rewards))"
   ],
   "metadata": {
    "collapsed": false,
    "pycharm": {
     "name": "#%%\n"
    }
   }
  }
 ],
 "metadata": {
  "kernelspec": {
   "display_name": "Python 3",
   "language": "python",
   "name": "python3"
  },
  "language_info": {
   "codemirror_mode": {
    "name": "ipython",
    "version": 2
   },
   "file_extension": ".py",
   "mimetype": "text/x-python",
   "name": "python",
   "nbconvert_exporter": "python",
   "pygments_lexer": "ipython2",
   "version": "2.7.6"
  }
 },
 "nbformat": 4,
 "nbformat_minor": 0
}