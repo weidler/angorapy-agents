{
 "cells": [
  {
   "cell_type": "code",
   "execution_count": null,
   "metadata": {
    "collapsed": true,
    "pycharm": {
     "name": "#%%\n"
    }
   },
   "outputs": [],
   "source": [
    "import json\n",
    "\n",
    "import angorapy as ang\n",
    "import angorapy.environments\n",
    "import bokeh\n",
    "import numpy as np\n",
    "from bokeh.io import output_notebook, show\n",
    "\n",
    "from angorapy.analysis.investigation import Investigator\n",
    "from angorapy.common.const import PATH_TO_EXPERIMENTS\n",
    "from angorapy.utilities.monitor import training_plots as plots\n",
    "output_notebook()\n",
    "\n",
    "agent = ang.agent.PPOAgent.from_agent_state(1653053413, from_iteration=\"best\")\n",
    "investigator = Investigator.from_agent(agent)"
   ]
  },
  {
   "cell_type": "markdown",
   "source": [
    "## Learning Curves & Statistics\n",
    "First things first, let us see how training of this agent went. We can easily plot the reward over training cycles, as follows"
   ],
   "metadata": {
    "collapsed": false,
    "pycharm": {
     "name": "#%% md\n"
    }
   }
  },
  {
   "cell_type": "code",
   "execution_count": null,
   "outputs": [],
   "source": [
    "with open(f\"{PATH_TO_EXPERIMENTS}/{agent.agent_id}/progress.json\", \"r\") as f:\n",
    "    progress_data = json.load(f)\n",
    "\n",
    "reward_plot = plots.plot_reward_progress(progress_data[\"rewards\"], [])\n",
    "show(reward_plot)"
   ],
   "metadata": {
    "collapsed": false,
    "pycharm": {
     "name": "#%%\n"
    }
   }
  },
  {
   "cell_type": "markdown",
   "source": [
    "And the same we can do with the average episode length per cycle."
   ],
   "metadata": {
    "collapsed": false,
    "pycharm": {
     "name": "#%% md\n"
    }
   }
  },
  {
   "cell_type": "code",
   "execution_count": null,
   "outputs": [],
   "source": [
    "with open(f\"{PATH_TO_EXPERIMENTS}/{agent.agent_id}/progress.json\", \"r\") as f:\n",
    "    progress_data = json.load(f)\n",
    "\n",
    "length_plot = plots.plot_length_progress(progress_data[\"lengths\"], [])\n",
    "show(length_plot)"
   ],
   "metadata": {
    "collapsed": false,
    "pycharm": {
     "name": "#%%\n"
    }
   }
  },
  {
   "cell_type": "markdown",
   "source": [
    "## Evaluation\n",
    "\n",
    "The above plots already show how performance progressed throughout training. Note, however, that AngoraPy trains agents with stochastic policies and, during training, encourages exploration. Thus, the above performance at every cycle is not entirely representative of the agents true potential. To evaluate its real performance, let us run 10 episodes without random exploration."
   ],
   "metadata": {
    "collapsed": false,
    "pycharm": {
     "name": "#%% md\n"
    }
   }
  },
  {
   "cell_type": "code",
   "execution_count": null,
   "outputs": [],
   "source": [
    "stats_eval = agent.evaluate(10, act_confidently=False)[0]  # todo act confidently"
   ],
   "metadata": {
    "collapsed": false,
    "pycharm": {
     "name": "#%%\n"
    }
   }
  },
  {
   "cell_type": "code",
   "execution_count": null,
   "outputs": [],
   "source": [
    "print(np.mean(stats_eval.episode_rewards))"
   ],
   "metadata": {
    "collapsed": false,
    "pycharm": {
     "name": "#%%\n"
    }
   }
  },
  {
   "cell_type": "markdown",
   "source": [
    "## Rendering\n",
    "Lastly, let us inspect qualitatively the behaviour of the agent, by rendering a few episodes."
   ],
   "metadata": {
    "collapsed": false,
    "pycharm": {
     "name": "#%% md\n"
    }
   }
  },
  {
   "cell_type": "code",
   "execution_count": null,
   "outputs": [],
   "source": [
    "for _ in range(10):\n",
    "    investigator.render_episode(agent.env)"
   ],
   "metadata": {
    "collapsed": false,
    "pycharm": {
     "name": "#%%\n"
    }
   }
  },
  {
   "cell_type": "code",
   "execution_count": null,
   "outputs": [],
   "source": [],
   "metadata": {
    "collapsed": false,
    "pycharm": {
     "name": "#%%\n"
    }
   }
  }
 ],
 "metadata": {
  "kernelspec": {
   "display_name": "Python 3",
   "language": "python",
   "name": "python3"
  },
  "language_info": {
   "codemirror_mode": {
    "name": "ipython",
    "version": 2
   },
   "file_extension": ".py",
   "mimetype": "text/x-python",
   "name": "python",
   "nbconvert_exporter": "python",
   "pygments_lexer": "ipython2",
   "version": "2.7.6"
  }
 },
 "nbformat": 4,
 "nbformat_minor": 0
}